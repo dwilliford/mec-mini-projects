{
 "cells": [
  {
   "cell_type": "markdown",
   "id": "e768006d",
   "metadata": {},
   "source": [
    "Exploration of different classification/clustering algorithms for devotional content."
   ]
  },
  {
   "cell_type": "markdown",
   "id": "2920775a",
   "metadata": {},
   "source": [
    "I will use the collections as classifications for performing supervised learning.  There may be value in also performing unsupervised clustering."
   ]
  },
  {
   "cell_type": "markdown",
   "id": "60a925d8",
   "metadata": {},
   "source": [
    "I can leverage my project code to retrieve both tfid matrix and content object.  I will need to also extract collection for each devotional day."
   ]
  },
  {
   "cell_type": "code",
   "execution_count": 1,
   "id": "7599d161",
   "metadata": {},
   "outputs": [],
   "source": [
    "import pandas as pd\n",
    "import json\n",
    "from sklearn.feature_extraction.text import TfidfVectorizer\n",
    "import numpy as np\n",
    "from sklearn.model_selection import train_test_split"
   ]
  },
  {
   "cell_type": "markdown",
   "id": "fc21e71d",
   "metadata": {},
   "source": [
    "# Data Prep"
   ]
  },
  {
   "cell_type": "code",
   "execution_count": 2,
   "id": "2041bed7",
   "metadata": {},
   "outputs": [],
   "source": [
    "base_data_location = 'C:/Users/Dave/git_repos/mec-mini-projects/mec-14-8-capstone-model/data'\n",
    "base_model_location = 'C:/Users/Dave/git_repos/mec-mini-projects/mec-14-8-capstone-model/models'\n",
    "devotional_corpus = base_data_location + '/corpus_mod.json'\n",
    "\n",
    "# To use small, test corpus uncomment line below, change the read_json line and collection line in next 2 boxes\n",
    "#devotional_corpus = base_data_location + '/toy_corpus.json'\n"
   ]
  },
  {
   "cell_type": "code",
   "execution_count": 34,
   "id": "c23b544f",
   "metadata": {},
   "outputs": [],
   "source": [
    "#load devotionals\n",
    "df = pd.read_json(devotional_corpus)\n",
    "\n",
    "#Note if there are more columns than rows (like in the toy data set), you have to reorient the dataframe\n",
    "#df = pd.read_json(devotional_corpus, orient='index')\n"
   ]
  },
  {
   "cell_type": "code",
   "execution_count": 35,
   "id": "5d0a9bb0",
   "metadata": {},
   "outputs": [],
   "source": [
    "# Get devotional ids for each collection and use as a label for supervised training\n",
    "collections = {\"782\" : \"love\", \"924\" : \"joy\", \"290\" : \"peace\", \"906\" : \"hope\", \"809\" : \"depression\"}\n",
    "#collections = {\"1\" : \"toy\"}\n",
    "devo_labels = {}\n",
    "for collection in collections.keys():\n",
    "    input_file = open(base_data_location + '/collections/collection_' + str(collection) + '.json')\n",
    "    collection_data = json.load(input_file)\n",
    "    page = {}\n",
    "    for page in collection_data.values():\n",
    "        for reading_plan in page['collections'][0]['items']:\n",
    "            reading_plan_id = reading_plan['id']\n",
    "            #create array with reading_plan id and collection id\n",
    "            devo_labels[reading_plan_id] = collection\n",
    "    input_file.close()\n"
   ]
  },
  {
   "cell_type": "code",
   "execution_count": 47,
   "id": "a0025351",
   "metadata": {
    "scrolled": false
   },
   "outputs": [
    {
     "name": "stdout",
     "output_type": "stream",
     "text": [
      "               source_id      source          type  day  \\\n",
      "YV_RP_29045_1      29045  YouVersion  reading plan    1   \n",
      "YV_RP_29045_2      29045  YouVersion  reading plan    2   \n",
      "YV_RP_29045_3      29045  YouVersion  reading plan    3   \n",
      "YV_RP_28889_1      28889  YouVersion  reading plan    1   \n",
      "YV_RP_28889_2      28889  YouVersion  reading plan    2   \n",
      "...                  ...         ...           ...  ...   \n",
      "YV_RP_28716_1      28716  YouVersion  reading plan    1   \n",
      "YV_RP_28716_2      28716  YouVersion  reading plan    2   \n",
      "YV_RP_28716_3      28716  YouVersion  reading plan    3   \n",
      "YV_RP_28716_4      28716  YouVersion  reading plan    4   \n",
      "YV_RP_28716_5      28716  YouVersion  reading plan    5   \n",
      "\n",
      "                                                            text  \\\n",
      "YV_RP_29045_1  [IMAGE CONTENT] \\n\\nTHE GIFT OF JESUS \\n\\n  \\n...   \n",
      "YV_RP_29045_2  [IMAGE CONTENT] \\n\\nTHE GIFT OF SALVATION \\n\\n...   \n",
      "YV_RP_29045_3  SHARE JESUS, THE PERFECT GIFT \\n\\n  \\n\\n\\nChri...   \n",
      "YV_RP_28889_1  Being There for One Another \\n\\nWhat is the ev...   \n",
      "YV_RP_28889_2  Words That Bring Healing \\n\\nDo your words bri...   \n",
      "...                                                          ...   \n",
      "YV_RP_28716_1  #  BELOVED \\n\\nBeloved. The word itself hides ...   \n",
      "YV_RP_28716_2  #  NEEDY \\n\\nEach of us can recall being calle...   \n",
      "YV_RP_28716_3  #  GOD'S LIVING STATUE \\n\\nWhat does it mean t...   \n",
      "YV_RP_28716_4  #  YOU ARE A NAME GIVER \\n\\nEvery expectant or...   \n",
      "YV_RP_28716_5  #  THE NAME ABOVE EVERY OTHER: JESUS \\n\\nEven ...   \n",
      "\n",
      "                                                      references  \n",
      "YV_RP_29045_1  [JHN.3.16+JHN.3.17, LUK.2.11, ISA.7.14, COL.1....  \n",
      "YV_RP_29045_2  [EPH.2.8+EPH.2.9, 2CO.5.21, EPH.1.7, ROM.6.6, ...  \n",
      "YV_RP_29045_3                     [JHN.14.6, JHN.11.25, ACT.1.8]  \n",
      "YV_RP_28889_1                                         [JAS.2.14]  \n",
      "YV_RP_28889_2                                        [PRO.12.18]  \n",
      "...                                                          ...  \n",
      "YV_RP_28716_1  [GEN.1.28, GEN.1.31, PSA.116.7, LUK.10.30+LUK....  \n",
      "YV_RP_28716_2                                  [GEN.5.1+GEN.5.2]  \n",
      "YV_RP_28716_3  [GEN.1.26, EXO.20.4+EXO.20.5+EXO.20.6, DEU.5.8...  \n",
      "YV_RP_28716_4  [GEN.1.28, GEN.14.18+GEN.14.19+GEN.14.20, PSA....  \n",
      "YV_RP_28716_5  [PSA.110.1, ISA.53, MRK.10.45, HEB.2.14+HEB.2.15]  \n",
      "\n",
      "[7574 rows x 6 columns]\n"
     ]
    }
   ],
   "source": [
    "print(df)\n"
   ]
  },
  {
   "cell_type": "code",
   "execution_count": 36,
   "id": "2ce99174",
   "metadata": {
    "scrolled": true
   },
   "outputs": [
    {
     "data": {
      "text/html": [
       "<div>\n",
       "<style scoped>\n",
       "    .dataframe tbody tr th:only-of-type {\n",
       "        vertical-align: middle;\n",
       "    }\n",
       "\n",
       "    .dataframe tbody tr th {\n",
       "        vertical-align: top;\n",
       "    }\n",
       "\n",
       "    .dataframe thead th {\n",
       "        text-align: right;\n",
       "    }\n",
       "</style>\n",
       "<table border=\"1\" class=\"dataframe\">\n",
       "  <thead>\n",
       "    <tr style=\"text-align: right;\">\n",
       "      <th></th>\n",
       "      <th>source_id</th>\n",
       "      <th>source</th>\n",
       "      <th>type</th>\n",
       "      <th>day</th>\n",
       "      <th>text</th>\n",
       "      <th>references</th>\n",
       "    </tr>\n",
       "  </thead>\n",
       "  <tbody>\n",
       "    <tr>\n",
       "      <th>YV_RP_29045_1</th>\n",
       "      <td>29045</td>\n",
       "      <td>YouVersion</td>\n",
       "      <td>reading plan</td>\n",
       "      <td>1</td>\n",
       "      <td>[IMAGE CONTENT] \\n\\nTHE GIFT OF JESUS \\n\\n  \\n...</td>\n",
       "      <td>[JHN.3.16+JHN.3.17, LUK.2.11, ISA.7.14, COL.1....</td>\n",
       "    </tr>\n",
       "    <tr>\n",
       "      <th>YV_RP_29045_2</th>\n",
       "      <td>29045</td>\n",
       "      <td>YouVersion</td>\n",
       "      <td>reading plan</td>\n",
       "      <td>2</td>\n",
       "      <td>[IMAGE CONTENT] \\n\\nTHE GIFT OF SALVATION \\n\\n...</td>\n",
       "      <td>[EPH.2.8+EPH.2.9, 2CO.5.21, EPH.1.7, ROM.6.6, ...</td>\n",
       "    </tr>\n",
       "    <tr>\n",
       "      <th>YV_RP_29045_3</th>\n",
       "      <td>29045</td>\n",
       "      <td>YouVersion</td>\n",
       "      <td>reading plan</td>\n",
       "      <td>3</td>\n",
       "      <td>SHARE JESUS, THE PERFECT GIFT \\n\\n  \\n\\n\\nChri...</td>\n",
       "      <td>[JHN.14.6, JHN.11.25, ACT.1.8]</td>\n",
       "    </tr>\n",
       "    <tr>\n",
       "      <th>YV_RP_28889_1</th>\n",
       "      <td>28889</td>\n",
       "      <td>YouVersion</td>\n",
       "      <td>reading plan</td>\n",
       "      <td>1</td>\n",
       "      <td>Being There for One Another \\n\\nWhat is the ev...</td>\n",
       "      <td>[JAS.2.14]</td>\n",
       "    </tr>\n",
       "    <tr>\n",
       "      <th>YV_RP_28889_2</th>\n",
       "      <td>28889</td>\n",
       "      <td>YouVersion</td>\n",
       "      <td>reading plan</td>\n",
       "      <td>2</td>\n",
       "      <td>Words That Bring Healing \\n\\nDo your words bri...</td>\n",
       "      <td>[PRO.12.18]</td>\n",
       "    </tr>\n",
       "  </tbody>\n",
       "</table>\n",
       "</div>"
      ],
      "text/plain": [
       "               source_id      source          type  day  \\\n",
       "YV_RP_29045_1      29045  YouVersion  reading plan    1   \n",
       "YV_RP_29045_2      29045  YouVersion  reading plan    2   \n",
       "YV_RP_29045_3      29045  YouVersion  reading plan    3   \n",
       "YV_RP_28889_1      28889  YouVersion  reading plan    1   \n",
       "YV_RP_28889_2      28889  YouVersion  reading plan    2   \n",
       "\n",
       "                                                            text  \\\n",
       "YV_RP_29045_1  [IMAGE CONTENT] \\n\\nTHE GIFT OF JESUS \\n\\n  \\n...   \n",
       "YV_RP_29045_2  [IMAGE CONTENT] \\n\\nTHE GIFT OF SALVATION \\n\\n...   \n",
       "YV_RP_29045_3  SHARE JESUS, THE PERFECT GIFT \\n\\n  \\n\\n\\nChri...   \n",
       "YV_RP_28889_1  Being There for One Another \\n\\nWhat is the ev...   \n",
       "YV_RP_28889_2  Words That Bring Healing \\n\\nDo your words bri...   \n",
       "\n",
       "                                                      references  \n",
       "YV_RP_29045_1  [JHN.3.16+JHN.3.17, LUK.2.11, ISA.7.14, COL.1....  \n",
       "YV_RP_29045_2  [EPH.2.8+EPH.2.9, 2CO.5.21, EPH.1.7, ROM.6.6, ...  \n",
       "YV_RP_29045_3                     [JHN.14.6, JHN.11.25, ACT.1.8]  \n",
       "YV_RP_28889_1                                         [JAS.2.14]  \n",
       "YV_RP_28889_2                                        [PRO.12.18]  "
      ]
     },
     "execution_count": 36,
     "metadata": {},
     "output_type": "execute_result"
    }
   ],
   "source": [
    "df.head()"
   ]
  },
  {
   "cell_type": "code",
   "execution_count": 256,
   "id": "2c37c5b1",
   "metadata": {},
   "outputs": [],
   "source": [
    "#print(devo_labels)"
   ]
  },
  {
   "cell_type": "code",
   "execution_count": null,
   "id": "220c1c09",
   "metadata": {},
   "outputs": [],
   "source": [
    "#print(df[df.index == 'YV_RP_25165_3'])"
   ]
  },
  {
   "cell_type": "code",
   "execution_count": 65,
   "id": "87a1308c",
   "metadata": {},
   "outputs": [
    {
     "name": "stdout",
     "output_type": "stream",
     "text": [
      "YV_RP_25165_3    25165\n",
      "Name: source_id, dtype: int64\n"
     ]
    }
   ],
   "source": [
    "#print(df[df.index == 'YV_RP_25165_3']['source_id'])"
   ]
  },
  {
   "cell_type": "code",
   "execution_count": 37,
   "id": "42a10a46",
   "metadata": {},
   "outputs": [],
   "source": [
    "#Create tfid\n",
    "tfidf_vect = TfidfVectorizer(stop_words='english')\n",
    "\n",
    "#X = tfidf_vect.fit_transform(df['text'].to_numpy())\n",
    "X = tfidf_vect.fit_transform(df['text'].to_numpy()).toarray()\n"
   ]
  },
  {
   "cell_type": "code",
   "execution_count": 38,
   "id": "d00a716d",
   "metadata": {},
   "outputs": [
    {
     "name": "stdout",
     "output_type": "stream",
     "text": [
      "28846\n"
     ]
    }
   ],
   "source": [
    "#print(tfidf_vect.vocabulary_)\n",
    "print(len(tfidf_vect.vocabulary_))\n",
    "  \n",
    "#print(X)\n"
   ]
  },
  {
   "cell_type": "code",
   "execution_count": null,
   "id": "d2bec8a4",
   "metadata": {},
   "outputs": [],
   "source": [
    "#join df with devo_labels and split y"
   ]
  },
  {
   "cell_type": "code",
   "execution_count": 39,
   "id": "18cafebe",
   "metadata": {
    "scrolled": true
   },
   "outputs": [
    {
     "data": {
      "text/html": [
       "<div>\n",
       "<style scoped>\n",
       "    .dataframe tbody tr th:only-of-type {\n",
       "        vertical-align: middle;\n",
       "    }\n",
       "\n",
       "    .dataframe tbody tr th {\n",
       "        vertical-align: top;\n",
       "    }\n",
       "\n",
       "    .dataframe thead th {\n",
       "        text-align: right;\n",
       "    }\n",
       "</style>\n",
       "<table border=\"1\" class=\"dataframe\">\n",
       "  <thead>\n",
       "    <tr style=\"text-align: right;\">\n",
       "      <th></th>\n",
       "      <th>Collection</th>\n",
       "    </tr>\n",
       "  </thead>\n",
       "  <tbody>\n",
       "    <tr>\n",
       "      <th>29045</th>\n",
       "      <td>782</td>\n",
       "    </tr>\n",
       "    <tr>\n",
       "      <th>28889</th>\n",
       "      <td>782</td>\n",
       "    </tr>\n",
       "    <tr>\n",
       "      <th>28850</th>\n",
       "      <td>924</td>\n",
       "    </tr>\n",
       "    <tr>\n",
       "      <th>28924</th>\n",
       "      <td>906</td>\n",
       "    </tr>\n",
       "    <tr>\n",
       "      <th>28967</th>\n",
       "      <td>782</td>\n",
       "    </tr>\n",
       "  </tbody>\n",
       "</table>\n",
       "</div>"
      ],
      "text/plain": [
       "      Collection\n",
       "29045        782\n",
       "28889        782\n",
       "28850        924\n",
       "28924        906\n",
       "28967        782"
      ]
     },
     "execution_count": 39,
     "metadata": {},
     "output_type": "execute_result"
    }
   ],
   "source": [
    "df.head()\n",
    "#print(devo_labels)\n",
    " #= DataFrame()\n",
    "label_df = pd.DataFrame.from_dict(devo_labels, orient='index', columns=['Collection'])\n",
    "#label_df['source_id'] = label_df.index.astype(str)\n",
    "label_df.head()"
   ]
  },
  {
   "cell_type": "code",
   "execution_count": 40,
   "id": "521546bf",
   "metadata": {
    "scrolled": false
   },
   "outputs": [
    {
     "data": {
      "text/html": [
       "<div>\n",
       "<style scoped>\n",
       "    .dataframe tbody tr th:only-of-type {\n",
       "        vertical-align: middle;\n",
       "    }\n",
       "\n",
       "    .dataframe tbody tr th {\n",
       "        vertical-align: top;\n",
       "    }\n",
       "\n",
       "    .dataframe thead th {\n",
       "        text-align: right;\n",
       "    }\n",
       "</style>\n",
       "<table border=\"1\" class=\"dataframe\">\n",
       "  <thead>\n",
       "    <tr style=\"text-align: right;\">\n",
       "      <th></th>\n",
       "      <th>source_id</th>\n",
       "      <th>source</th>\n",
       "      <th>type</th>\n",
       "      <th>day</th>\n",
       "      <th>text</th>\n",
       "      <th>references</th>\n",
       "    </tr>\n",
       "  </thead>\n",
       "  <tbody>\n",
       "    <tr>\n",
       "      <th>YV_RP_29045_1</th>\n",
       "      <td>29045</td>\n",
       "      <td>YouVersion</td>\n",
       "      <td>reading plan</td>\n",
       "      <td>1</td>\n",
       "      <td>[IMAGE CONTENT] \\n\\nTHE GIFT OF JESUS \\n\\n  \\n...</td>\n",
       "      <td>[JHN.3.16+JHN.3.17, LUK.2.11, ISA.7.14, COL.1....</td>\n",
       "    </tr>\n",
       "    <tr>\n",
       "      <th>YV_RP_29045_2</th>\n",
       "      <td>29045</td>\n",
       "      <td>YouVersion</td>\n",
       "      <td>reading plan</td>\n",
       "      <td>2</td>\n",
       "      <td>[IMAGE CONTENT] \\n\\nTHE GIFT OF SALVATION \\n\\n...</td>\n",
       "      <td>[EPH.2.8+EPH.2.9, 2CO.5.21, EPH.1.7, ROM.6.6, ...</td>\n",
       "    </tr>\n",
       "    <tr>\n",
       "      <th>YV_RP_29045_3</th>\n",
       "      <td>29045</td>\n",
       "      <td>YouVersion</td>\n",
       "      <td>reading plan</td>\n",
       "      <td>3</td>\n",
       "      <td>SHARE JESUS, THE PERFECT GIFT \\n\\n  \\n\\n\\nChri...</td>\n",
       "      <td>[JHN.14.6, JHN.11.25, ACT.1.8]</td>\n",
       "    </tr>\n",
       "    <tr>\n",
       "      <th>YV_RP_28889_1</th>\n",
       "      <td>28889</td>\n",
       "      <td>YouVersion</td>\n",
       "      <td>reading plan</td>\n",
       "      <td>1</td>\n",
       "      <td>Being There for One Another \\n\\nWhat is the ev...</td>\n",
       "      <td>[JAS.2.14]</td>\n",
       "    </tr>\n",
       "    <tr>\n",
       "      <th>YV_RP_28889_2</th>\n",
       "      <td>28889</td>\n",
       "      <td>YouVersion</td>\n",
       "      <td>reading plan</td>\n",
       "      <td>2</td>\n",
       "      <td>Words That Bring Healing \\n\\nDo your words bri...</td>\n",
       "      <td>[PRO.12.18]</td>\n",
       "    </tr>\n",
       "  </tbody>\n",
       "</table>\n",
       "</div>"
      ],
      "text/plain": [
       "               source_id      source          type  day  \\\n",
       "YV_RP_29045_1      29045  YouVersion  reading plan    1   \n",
       "YV_RP_29045_2      29045  YouVersion  reading plan    2   \n",
       "YV_RP_29045_3      29045  YouVersion  reading plan    3   \n",
       "YV_RP_28889_1      28889  YouVersion  reading plan    1   \n",
       "YV_RP_28889_2      28889  YouVersion  reading plan    2   \n",
       "\n",
       "                                                            text  \\\n",
       "YV_RP_29045_1  [IMAGE CONTENT] \\n\\nTHE GIFT OF JESUS \\n\\n  \\n...   \n",
       "YV_RP_29045_2  [IMAGE CONTENT] \\n\\nTHE GIFT OF SALVATION \\n\\n...   \n",
       "YV_RP_29045_3  SHARE JESUS, THE PERFECT GIFT \\n\\n  \\n\\n\\nChri...   \n",
       "YV_RP_28889_1  Being There for One Another \\n\\nWhat is the ev...   \n",
       "YV_RP_28889_2  Words That Bring Healing \\n\\nDo your words bri...   \n",
       "\n",
       "                                                      references  \n",
       "YV_RP_29045_1  [JHN.3.16+JHN.3.17, LUK.2.11, ISA.7.14, COL.1....  \n",
       "YV_RP_29045_2  [EPH.2.8+EPH.2.9, 2CO.5.21, EPH.1.7, ROM.6.6, ...  \n",
       "YV_RP_29045_3                     [JHN.14.6, JHN.11.25, ACT.1.8]  \n",
       "YV_RP_28889_1                                         [JAS.2.14]  \n",
       "YV_RP_28889_2                                        [PRO.12.18]  "
      ]
     },
     "execution_count": 40,
     "metadata": {},
     "output_type": "execute_result"
    }
   ],
   "source": [
    "df.head()"
   ]
  },
  {
   "cell_type": "code",
   "execution_count": 41,
   "id": "e509e903",
   "metadata": {},
   "outputs": [
    {
     "name": "stdout",
     "output_type": "stream",
     "text": [
      "45444\n",
      "940\n"
     ]
    }
   ],
   "source": [
    "print(df.size)\n",
    "print(label_df.size)"
   ]
  },
  {
   "cell_type": "code",
   "execution_count": 42,
   "id": "f9edc17e",
   "metadata": {},
   "outputs": [],
   "source": [
    "y_df = pd.merge(df, label_df, how='left', left_on=['source_id'], right_index=True)"
   ]
  },
  {
   "cell_type": "code",
   "execution_count": 43,
   "id": "afa3c19c",
   "metadata": {
    "scrolled": true
   },
   "outputs": [
    {
     "name": "stdout",
     "output_type": "stream",
     "text": [
      "53018\n"
     ]
    }
   ],
   "source": [
    "print(y_df.size)"
   ]
  },
  {
   "cell_type": "code",
   "execution_count": 13,
   "id": "14d33f79",
   "metadata": {
    "scrolled": true
   },
   "outputs": [
    {
     "data": {
      "text/html": [
       "<div>\n",
       "<style scoped>\n",
       "    .dataframe tbody tr th:only-of-type {\n",
       "        vertical-align: middle;\n",
       "    }\n",
       "\n",
       "    .dataframe tbody tr th {\n",
       "        vertical-align: top;\n",
       "    }\n",
       "\n",
       "    .dataframe thead th {\n",
       "        text-align: right;\n",
       "    }\n",
       "</style>\n",
       "<table border=\"1\" class=\"dataframe\">\n",
       "  <thead>\n",
       "    <tr style=\"text-align: right;\">\n",
       "      <th></th>\n",
       "      <th>source_id</th>\n",
       "      <th>source</th>\n",
       "      <th>type</th>\n",
       "      <th>day</th>\n",
       "      <th>text</th>\n",
       "      <th>references</th>\n",
       "      <th>Collection</th>\n",
       "    </tr>\n",
       "  </thead>\n",
       "  <tbody>\n",
       "    <tr>\n",
       "      <th>YV_RP_29045_1</th>\n",
       "      <td>29045</td>\n",
       "      <td>YouVersion</td>\n",
       "      <td>reading plan</td>\n",
       "      <td>1</td>\n",
       "      <td>[IMAGE CONTENT] \\n\\nTHE GIFT OF JESUS \\n\\n  \\n...</td>\n",
       "      <td>[JHN.3.16+JHN.3.17, LUK.2.11, ISA.7.14, COL.1....</td>\n",
       "      <td>782</td>\n",
       "    </tr>\n",
       "    <tr>\n",
       "      <th>YV_RP_29045_2</th>\n",
       "      <td>29045</td>\n",
       "      <td>YouVersion</td>\n",
       "      <td>reading plan</td>\n",
       "      <td>2</td>\n",
       "      <td>[IMAGE CONTENT] \\n\\nTHE GIFT OF SALVATION \\n\\n...</td>\n",
       "      <td>[EPH.2.8+EPH.2.9, 2CO.5.21, EPH.1.7, ROM.6.6, ...</td>\n",
       "      <td>782</td>\n",
       "    </tr>\n",
       "    <tr>\n",
       "      <th>YV_RP_29045_3</th>\n",
       "      <td>29045</td>\n",
       "      <td>YouVersion</td>\n",
       "      <td>reading plan</td>\n",
       "      <td>3</td>\n",
       "      <td>SHARE JESUS, THE PERFECT GIFT \\n\\n  \\n\\n\\nChri...</td>\n",
       "      <td>[JHN.14.6, JHN.11.25, ACT.1.8]</td>\n",
       "      <td>782</td>\n",
       "    </tr>\n",
       "    <tr>\n",
       "      <th>YV_RP_28889_1</th>\n",
       "      <td>28889</td>\n",
       "      <td>YouVersion</td>\n",
       "      <td>reading plan</td>\n",
       "      <td>1</td>\n",
       "      <td>Being There for One Another \\n\\nWhat is the ev...</td>\n",
       "      <td>[JAS.2.14]</td>\n",
       "      <td>782</td>\n",
       "    </tr>\n",
       "    <tr>\n",
       "      <th>YV_RP_28889_2</th>\n",
       "      <td>28889</td>\n",
       "      <td>YouVersion</td>\n",
       "      <td>reading plan</td>\n",
       "      <td>2</td>\n",
       "      <td>Words That Bring Healing \\n\\nDo your words bri...</td>\n",
       "      <td>[PRO.12.18]</td>\n",
       "      <td>782</td>\n",
       "    </tr>\n",
       "  </tbody>\n",
       "</table>\n",
       "</div>"
      ],
      "text/plain": [
       "               source_id      source          type  day  \\\n",
       "YV_RP_29045_1      29045  YouVersion  reading plan    1   \n",
       "YV_RP_29045_2      29045  YouVersion  reading plan    2   \n",
       "YV_RP_29045_3      29045  YouVersion  reading plan    3   \n",
       "YV_RP_28889_1      28889  YouVersion  reading plan    1   \n",
       "YV_RP_28889_2      28889  YouVersion  reading plan    2   \n",
       "\n",
       "                                                            text  \\\n",
       "YV_RP_29045_1  [IMAGE CONTENT] \\n\\nTHE GIFT OF JESUS \\n\\n  \\n...   \n",
       "YV_RP_29045_2  [IMAGE CONTENT] \\n\\nTHE GIFT OF SALVATION \\n\\n...   \n",
       "YV_RP_29045_3  SHARE JESUS, THE PERFECT GIFT \\n\\n  \\n\\n\\nChri...   \n",
       "YV_RP_28889_1  Being There for One Another \\n\\nWhat is the ev...   \n",
       "YV_RP_28889_2  Words That Bring Healing \\n\\nDo your words bri...   \n",
       "\n",
       "                                                      references Collection  \n",
       "YV_RP_29045_1  [JHN.3.16+JHN.3.17, LUK.2.11, ISA.7.14, COL.1....        782  \n",
       "YV_RP_29045_2  [EPH.2.8+EPH.2.9, 2CO.5.21, EPH.1.7, ROM.6.6, ...        782  \n",
       "YV_RP_29045_3                     [JHN.14.6, JHN.11.25, ACT.1.8]        782  \n",
       "YV_RP_28889_1                                         [JAS.2.14]        782  \n",
       "YV_RP_28889_2                                        [PRO.12.18]        782  "
      ]
     },
     "execution_count": 13,
     "metadata": {},
     "output_type": "execute_result"
    }
   ],
   "source": [
    "y_df.head()"
   ]
  },
  {
   "cell_type": "code",
   "execution_count": 14,
   "id": "a95dc14a",
   "metadata": {
    "scrolled": true
   },
   "outputs": [],
   "source": [
    "#print(X.size)"
   ]
  },
  {
   "cell_type": "code",
   "execution_count": 255,
   "id": "d530e7c0",
   "metadata": {
    "scrolled": true
   },
   "outputs": [],
   "source": [
    "#print(y_df)"
   ]
  },
  {
   "cell_type": "code",
   "execution_count": 44,
   "id": "c73e2a21",
   "metadata": {},
   "outputs": [],
   "source": [
    "#Create single array of labels for training/testing\n",
    "y = y_df['Collection'].to_numpy()"
   ]
  },
  {
   "cell_type": "code",
   "execution_count": null,
   "id": "d8c3eca7",
   "metadata": {},
   "outputs": [],
   "source": []
  },
  {
   "cell_type": "code",
   "execution_count": 45,
   "id": "aaf06bac",
   "metadata": {},
   "outputs": [],
   "source": [
    "#Split training and test sets\n",
    "from sklearn.model_selection import train_test_split\n",
    "X_train, X_test, y_train, y_test = train_test_split(X, y, test_size = 0.3, random_state = 0)\n"
   ]
  },
  {
   "cell_type": "markdown",
   "id": "64e5643c",
   "metadata": {},
   "source": [
    "# Try different algorithms"
   ]
  },
  {
   "cell_type": "markdown",
   "id": "ee7d52e2",
   "metadata": {},
   "source": [
    "## Common functions"
   ]
  },
  {
   "cell_type": "code",
   "execution_count": 17,
   "id": "2dd73a3d",
   "metadata": {},
   "outputs": [],
   "source": [
    "from sklearn.metrics import accuracy_score, classification_report\n",
    "def print_report(y_test,y_pred):\n",
    "    class_report = classification_report(y_test, y_pred)\n",
    "    print('\\nAccuracy: ', accuracy_score(y_test, y_pred))\n",
    "    print('\\n', class_report)"
   ]
  },
  {
   "cell_type": "code",
   "execution_count": 27,
   "id": "c31e48af",
   "metadata": {},
   "outputs": [],
   "source": [
    "from sklearn.model_selection import GridSearchCV\n",
    "from joblib import parallel_backend\n",
    "import joblib\n",
    "def cv_optimize(clf, parameters, X_train, y_train, n_folds=5):\n",
    "    gs = GridSearchCV(clf, param_grid=parameters, cv=n_folds)\n",
    "    gs.fit(X_train, y_train)\n",
    "    print(\"Optimal params: \" + str(gs.best_params_))\n",
    "    return gs.best_estimator_\n"
   ]
  },
  {
   "cell_type": "markdown",
   "id": "e98c42f4",
   "metadata": {},
   "source": [
    "## Naive Bayes"
   ]
  },
  {
   "cell_type": "code",
   "execution_count": 19,
   "id": "3e6c6fc7",
   "metadata": {
    "scrolled": true
   },
   "outputs": [
    {
     "name": "stdout",
     "output_type": "stream",
     "text": [
      "\n",
      "Accuracy:  0.39683238011438626\n",
      "\n",
      "               precision    recall  f1-score   support\n",
      "\n",
      "         290       0.74      0.13      0.22       435\n",
      "         782       0.86      0.08      0.15       365\n",
      "         809       0.55      0.46      0.51       482\n",
      "         906       0.87      0.16      0.27       423\n",
      "         924       0.31      0.92      0.47       568\n",
      "\n",
      "    accuracy                           0.40      2273\n",
      "   macro avg       0.67      0.35      0.32      2273\n",
      "weighted avg       0.64      0.40      0.34      2273\n",
      "\n"
     ]
    }
   ],
   "source": [
    "from sklearn.naive_bayes import MultinomialNB\n",
    "clf = MultinomialNB()\n",
    "clf.fit(X_train, y_train)\n",
    "\n",
    "y_pred = clf.predict(X_test)\n",
    "\n",
    "print_report(y_test,y_pred)\n"
   ]
  },
  {
   "cell_type": "code",
   "execution_count": 22,
   "id": "b3627d11",
   "metadata": {},
   "outputs": [
    {
     "data": {
      "text/plain": [
       "['C:/Users/Dave/git_repos/mec-mini-projects/mec-14-8-capstone-model/models/MNB_model.pkl']"
      ]
     },
     "execution_count": 22,
     "metadata": {},
     "output_type": "execute_result"
    }
   ],
   "source": [
    "joblib.dump(clf, base_model_location + '/MNB_model.pkl')"
   ]
  },
  {
   "cell_type": "markdown",
   "id": "07ad0f6e",
   "metadata": {},
   "source": [
    "## KNN"
   ]
  },
  {
   "cell_type": "code",
   "execution_count": 29,
   "id": "3a0e8af5",
   "metadata": {
    "scrolled": true
   },
   "outputs": [
    {
     "name": "stdout",
     "output_type": "stream",
     "text": [
      "Optimal params: {'n_neighbors': 11}\n",
      "\n",
      "Accuracy:  0.5327760668719753\n",
      "\n",
      "               precision    recall  f1-score   support\n",
      "\n",
      "         290       0.51      0.55      0.53       435\n",
      "         782       0.56      0.62      0.59       365\n",
      "         809       0.53      0.49      0.51       482\n",
      "         906       0.51      0.45      0.48       423\n",
      "         924       0.55      0.56      0.55       568\n",
      "\n",
      "    accuracy                           0.53      2273\n",
      "   macro avg       0.53      0.53      0.53      2273\n",
      "weighted avg       0.53      0.53      0.53      2273\n",
      "\n"
     ]
    }
   ],
   "source": [
    "from sklearn.neighbors import KNeighborsClassifier\n",
    "clf = KNeighborsClassifier()\n",
    "parameters = {\"n_neighbors\": range(1,40,5) }\n",
    "with parallel_backend('threading', n_jobs=-1):\n",
    "    clf = cv_optimize(clf, parameters, X_train, y_train)\n",
    "    clf.fit(X_train, y_train)\n",
    "    y_pred = clf.predict(X_test)\n",
    "\n",
    "print_report(y_test,y_pred)"
   ]
  },
  {
   "cell_type": "code",
   "execution_count": 30,
   "id": "03fac07e",
   "metadata": {},
   "outputs": [
    {
     "data": {
      "text/plain": [
       "['C:/Users/Dave/git_repos/mec-mini-projects/mec-14-8-capstone-model/models/KNN_model.pkl']"
      ]
     },
     "execution_count": 30,
     "metadata": {},
     "output_type": "execute_result"
    }
   ],
   "source": [
    "joblib.dump(clf, base_model_location + '/KNN_model.pkl')"
   ]
  },
  {
   "cell_type": "markdown",
   "id": "a6b8f71d",
   "metadata": {},
   "source": [
    "## SVM"
   ]
  },
  {
   "cell_type": "code",
   "execution_count": 31,
   "id": "1a2a7fcb",
   "metadata": {},
   "outputs": [
    {
     "name": "stdout",
     "output_type": "stream",
     "text": [
      "Optimal params: {'C': 10, 'kernel': 'rbf'}\n",
      "\n",
      "Accuracy:  0.5644522657281126\n",
      "\n",
      "               precision    recall  f1-score   support\n",
      "\n",
      "         290       0.60      0.47      0.53       435\n",
      "         782       0.67      0.52      0.58       365\n",
      "         809       0.54      0.57      0.56       482\n",
      "         906       0.55      0.48      0.51       423\n",
      "         924       0.53      0.72      0.61       568\n",
      "\n",
      "    accuracy                           0.56      2273\n",
      "   macro avg       0.58      0.55      0.56      2273\n",
      "weighted avg       0.57      0.56      0.56      2273\n",
      "\n"
     ]
    }
   ],
   "source": [
    "from sklearn.svm import SVC\n",
    "clf = SVC()\n",
    "parameters = {\n",
    "    'kernel': ['linear', 'rbf'],\n",
    "    'C': [0.1, 1, 10]\n",
    "}\n",
    "#    'gamma' : [0.1, 1, 10, 100]\n",
    "with parallel_backend('threading', n_jobs=-1):\n",
    "    clf = cv_optimize(clf, parameters, X_train, y_train)\n",
    "    clf.fit(X_train, y_train)\n",
    "    y_pred = clf.predict(X_test)\n",
    "    print_report(y_test, y_pred)"
   ]
  },
  {
   "cell_type": "code",
   "execution_count": 32,
   "id": "60522c1b",
   "metadata": {},
   "outputs": [
    {
     "data": {
      "text/plain": [
       "['C:/Users/Dave/git_repos/mec-mini-projects/mec-14-8-capstone-model/models/SVM_model.pkl']"
      ]
     },
     "execution_count": 32,
     "metadata": {},
     "output_type": "execute_result"
    }
   ],
   "source": [
    "joblib.dump(clf, base_model_location + '/SVM_model.pkl')"
   ]
  },
  {
   "cell_type": "code",
   "execution_count": null,
   "id": "ebad45a4",
   "metadata": {},
   "outputs": [],
   "source": []
  },
  {
   "cell_type": "code",
   "execution_count": null,
   "id": "78313541",
   "metadata": {},
   "outputs": [],
   "source": []
  },
  {
   "cell_type": "code",
   "execution_count": null,
   "id": "4e92169b",
   "metadata": {},
   "outputs": [],
   "source": []
  },
  {
   "cell_type": "code",
   "execution_count": null,
   "id": "b2af1729",
   "metadata": {},
   "outputs": [],
   "source": []
  },
  {
   "cell_type": "code",
   "execution_count": null,
   "id": "a3d6d237",
   "metadata": {},
   "outputs": [],
   "source": []
  },
  {
   "cell_type": "code",
   "execution_count": null,
   "id": "db66a559",
   "metadata": {},
   "outputs": [],
   "source": []
  },
  {
   "cell_type": "code",
   "execution_count": null,
   "id": "ff9b1261",
   "metadata": {},
   "outputs": [],
   "source": []
  },
  {
   "cell_type": "markdown",
   "id": "0a6abf6c",
   "metadata": {},
   "source": [
    "from : https://www.kaggle.com/onadegibert/sentiment-analysis-with-tfidf-and-random-forest\n",
    "        Add word cleaner and wordcloud.  can probably use wordcloud to determine what clusters mean if I do an unsupervised run."
   ]
  },
  {
   "cell_type": "code",
   "execution_count": null,
   "id": "ab7d1cb6",
   "metadata": {},
   "outputs": [],
   "source": [
    "def clean(text):\n",
    "    wn = nltk.WordNetLemmatizer()\n",
    "    stopword = nltk.corpus.stopwords.words('english')\n",
    "    tokens = nltk.word_tokenize(text)\n",
    "    lower = [word.lower() for word in tokens]\n",
    "    no_stopwords = [word for word in lower if word not in stopword]\n",
    "    no_alpha = [word for word in no_stopwords if word.isalpha()]\n",
    "    lemm_text = [wn.lemmatize(word) for word in no_alpha]\n",
    "    clean_text = lemm_text\n",
    "    return clean_text\n"
   ]
  },
  {
   "cell_type": "markdown",
   "id": "6d89c08a",
   "metadata": {},
   "source": [
    "Eager to try : https://towardsdatascience.com/4x-faster-scikit-learn-in-3-lines-of-code-6b8799876b4a#:~:text=Unlike%20Neural%20Networks%20that%20use%20video%20card%20power,only%20using%20a%20quarter%20of%20your%20CPU%20power%21\n",
    "        to Speed up the training.\n",
    "        Unfortunately sklearn won't use a GPU but it is only using 40% of my laptop cpu\n",
    "        \n",
    "from joblib import parallel_backend\n",
    "with parallel_backend('threading', n_jobs=-1):\n",
    "    # Train the model\n",
    "    clf.fit(X_train, y_train)\n",
    "    # Test the model\n",
    "    y_pred = clf.predict(X_test)        \n",
    "    "
   ]
  },
  {
   "cell_type": "markdown",
   "id": "1851400f",
   "metadata": {},
   "source": [
    "Also try class sklearn.svm.LinearSVC(penalty='l2', loss='squared_hinge', *, dual=True, tol=0.0001, C=1.0, multi_class='ovr', fit_intercept=True, intercept_scaling=1, class_weight=None, verbose=0, random_state=None, max_iter=1000)"
   ]
  },
  {
   "cell_type": "code",
   "execution_count": null,
   "id": "f2d32370",
   "metadata": {},
   "outputs": [],
   "source": []
  }
 ],
 "metadata": {
  "kernelspec": {
   "display_name": "Python 3",
   "language": "python",
   "name": "python3"
  },
  "language_info": {
   "codemirror_mode": {
    "name": "ipython",
    "version": 3
   },
   "file_extension": ".py",
   "mimetype": "text/x-python",
   "name": "python",
   "nbconvert_exporter": "python",
   "pygments_lexer": "ipython3",
   "version": "3.7.10"
  }
 },
 "nbformat": 4,
 "nbformat_minor": 5
}
