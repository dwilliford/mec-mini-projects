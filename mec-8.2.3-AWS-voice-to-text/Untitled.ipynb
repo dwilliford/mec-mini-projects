{
 "cells": [
  {
   "cell_type": "code",
   "execution_count": 4,
   "id": "5b870196",
   "metadata": {},
   "outputs": [],
   "source": [
    "#import boto3\n",
    "import time\n",
    "import urllib\n",
    "import json\n",
    "\n",
    "\n",
    "\n",
    "\n",
    "\n",
    "\n"
   ]
  },
  {
   "cell_type": "code",
   "execution_count": 9,
   "id": "508297a8",
   "metadata": {},
   "outputs": [],
   "source": [
    "with open(\"../config_secret.json\") as key_file:\n",
    "    keys = json.load(key_file)\n",
    "\n",
    "AWS_ACCESS_KEY_ID = keys.get('mec_transcribe_api').get('access_key_id')\n",
    "AWS_SECRET_ACCESS_KEY = keys.get('mec_transcribe_api').get('secret_access_key')\n"
   ]
  },
  {
   "cell_type": "code",
   "execution_count": null,
   "id": "0a6c635a",
   "metadata": {},
   "outputs": [],
   "source": [
    "#job_name = 'job name'\n",
    "#job_uri = 'https://s3.amazonaws.com/bucket_name/file_name.mp3'\n",
    "job_name = 'MEC_Transcribe_Lab'\n",
    "job_uri = 'https://mec-tutorials.s3.us-west-2.amazonaws.com/Recording.m4a'"
   ]
  },
  {
   "cell_type": "code",
   "execution_count": null,
   "id": "b648aeb0",
   "metadata": {},
   "outputs": [],
   "source": [
    "Transcribe = boto3.client('transcribe', aws_access_key_id=AWS_ACCESS_KEY_ID, aws_secret_access_key=AWS_SECRET_ACCESS_KEY, region_name='us-east-1')"
   ]
  },
  {
   "cell_type": "code",
   "execution_count": null,
   "id": "a13c7275",
   "metadata": {},
   "outputs": [],
   "source": [
    "transcribe.start_transcription_job(TranscriptionJobName=job_name, Media={'MediaFileUri': job_uri}, MediaFormat='mp4', LanguageCode='en-US')"
   ]
  },
  {
   "cell_type": "code",
   "execution_count": null,
   "id": "e4e8b090",
   "metadata": {},
   "outputs": [],
   "source": [
    "while True:\n",
    "    status = transcribe.get_transcription_job(TranscriptionJobName=job_name)\n",
    "    if status['TranscriptionJob']['TranscriptionJobStatus'] in ['COMPLETED', 'FAILED']:\n",
    "        Break\n",
    "    print(\"Not ready yet...\")\n",
    "    time.sleep(2)\n",
    "print(status)"
   ]
  },
  {
   "cell_type": "code",
   "execution_count": null,
   "id": "2195a975",
   "metadata": {},
   "outputs": [],
   "source": [
    "if status['TranscriptionJob']['TranscriptionJobStatus'] == 'COMPLETED':\n",
    "    response = urllib.urlopen(status['TranscriptionJob']['Transcript']['TranscriptFileUri'])\n",
    "    data = json.loads(response.read())\n",
    "    text = data['results']['transcripts'][0]['transcript']\n",
    "    print(text)\n"
   ]
  },
  {
   "cell_type": "code",
   "execution_count": null,
   "id": "3ee74964",
   "metadata": {},
   "outputs": [],
   "source": []
  },
  {
   "cell_type": "code",
   "execution_count": null,
   "id": "5715a985",
   "metadata": {},
   "outputs": [],
   "source": []
  }
 ],
 "metadata": {
  "kernelspec": {
   "display_name": "Python 3",
   "language": "python",
   "name": "python3"
  },
  "language_info": {
   "codemirror_mode": {
    "name": "ipython",
    "version": 3
   },
   "file_extension": ".py",
   "mimetype": "text/x-python",
   "name": "python",
   "nbconvert_exporter": "python",
   "pygments_lexer": "ipython3",
   "version": "3.8.8"
  }
 },
 "nbformat": 4,
 "nbformat_minor": 5
}
