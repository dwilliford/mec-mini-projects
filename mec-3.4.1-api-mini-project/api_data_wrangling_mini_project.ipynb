{
 "cells": [
  {
   "cell_type": "markdown",
   "metadata": {},
   "source": [
    "This exercise will require you to pull some data from the Qunadl API. Qaundl is currently the most widely used aggregator of financial market data."
   ]
  },
  {
   "cell_type": "markdown",
   "metadata": {},
   "source": [
    "As a first step, you will need to register a free account on the http://www.quandl.com website."
   ]
  },
  {
   "cell_type": "markdown",
   "metadata": {},
   "source": [
    "After you register, you will be provided with a unique API key, that you should store:"
   ]
  },
  {
   "cell_type": "markdown",
   "metadata": {},
   "source": [
    "So I first went to quandl.com and was redirected to nasdaq.com.  I got a key from nasdaq.com and implemented project based on a dataset from that site.  Note they have the Frankfurt Stock Exchange but it only has a few free companies and Carl Zeiss is not one of them so I chose another.\n",
    "\n",
    "Later I came to know that the quandl api is still operational and returns Carl Zeiss data.  I then modified my notebook to use either one.  You can switch them by uncommenting the appropriate set of constants."
   ]
  },
  {
   "cell_type": "code",
   "execution_count": 153,
   "metadata": {},
   "outputs": [],
   "source": [
    "# Keeping keys out of public repos\n",
    "import json\n",
    "\n",
    "with open(\"../config_secret.json\") as key_file:\n",
    "    keys = json.load(key_file)\n",
    "\n",
    "nasdaq_api_key = keys.get('nasdaq_api_key') \n",
    "#print(nasdaq_api_key)\n"
   ]
  },
  {
   "cell_type": "code",
   "execution_count": 154,
   "metadata": {},
   "outputs": [],
   "source": [
    "# CONSTANTS FOR NASDAQ SITE\n",
    "# Store the API key as a string - according to PEP8, constants are always named in all upper case\n",
    "#API_KEY = nasdaq_api_key\n",
    "\n",
    "# Zeiss data is not part of free offering any more.  I used a different company instead.\n",
    "#DATABASE_CODE = 'XFRA'\n",
    "#DATASET_CODE = 'DAI'\n",
    "#URL = \"https://data.nasdaq.com/api/v3/datasets/%s/%s/data.json?%s\"\n",
    "#ROOT_ELEMENT = \"dataset_data\"\n",
    "#VOLUME_LABEL = \"Volume\"\n",
    "\n",
    "# CONSTANTS FOR QUANDL SITE\n",
    "# API key isn't needed\n",
    "API_KEY = ''\n",
    "DATABASE_CODE = 'FSE'\n",
    "DATASET_CODE = 'AFX_X'\n",
    "URL = \"https://www.quandl.com/api/v3/datasets/%s/%s.json?%s\"\n",
    "ROOT_ELEMENT = \"dataset\"\n",
    "VOLUME_LABEL = \"Traded Volume\"\n"
   ]
  },
  {
   "cell_type": "markdown",
   "metadata": {},
   "source": [
    "Qaundl has a large number of data sources, but, unfortunately, most of them require a Premium subscription. Still, there are also a good number of free datasets."
   ]
  },
  {
   "cell_type": "markdown",
   "metadata": {},
   "source": [
    "For this mini project, we will focus on equities data from the Frankfurt Stock Exhange (FSE), which is available for free. We'll try and analyze the stock prices of a company called Carl Zeiss Meditec, which manufactures tools for eye examinations, as well as medical lasers for laser eye surgery: https://www.zeiss.com/meditec/int/home.html. The company is listed under the stock ticker AFX_X."
   ]
  },
  {
   "cell_type": "markdown",
   "metadata": {},
   "source": [
    "You can find the detailed Quandl API instructions here: https://docs.quandl.com/docs/time-series"
   ]
  },
  {
   "cell_type": "markdown",
   "metadata": {},
   "source": [
    "While there is a dedicated Python package for connecting to the Quandl API, we would prefer that you use the *requests* package, which can be easily downloaded using *pip* or *conda*. You can find the documentation for the package here: http://docs.python-requests.org/en/master/ "
   ]
  },
  {
   "cell_type": "markdown",
   "metadata": {},
   "source": [
    "Finally, apart from the *requests* package, you are encouraged to not use any third party Python packages, such as *pandas*, and instead focus on what's available in the Python Standard Library (the *collections* module might come in handy: https://pymotw.com/3/collections/).\n",
    "Also, since you won't have access to DataFrames, you are encouraged to us Python's native data structures - preferably dictionaries, though some questions can also be answered using lists.\n",
    "You can read more on these data structures here: https://docs.python.org/3/tutorial/datastructures.html"
   ]
  },
  {
   "cell_type": "markdown",
   "metadata": {},
   "source": [
    "Keep in mind that the JSON responses you will be getting from the API map almost one-to-one to Python's dictionaries. Unfortunately, they can be very nested, so make sure you read up on indexing dictionaries in the documentation provided above."
   ]
  },
  {
   "cell_type": "code",
   "execution_count": 155,
   "metadata": {},
   "outputs": [],
   "source": [
    "# First, import the relevant modules\n",
    "import urllib.request\n",
    "import collections\n",
    "import json\n"
   ]
  },
  {
   "cell_type": "code",
   "execution_count": 156,
   "metadata": {},
   "outputs": [
    {
     "name": "stdout",
     "output_type": "stream",
     "text": [
      "{\"dataset\":{\"id\":10095370,\"dataset_code\":\"AFX_X\",\"database_code\":\"FSE\",\"name\":\"Carl Zeiss Meditec (AFX_X)\",\"description\":\"Stock Prices for Carl Zeiss Meditec (2020-11-02) from the Frankfurt Stock Exchange.\\u003cbr\\u003e\\u003cbr\\u003eTrading System: Xetra\\u003cbr\\u003e\\u003cbr\\u003eISIN: DE0005313704\",\"refreshed_at\":\"2020-12-01T14:48:09.907Z\",\"newest_available_date\":\"2020-12-01\",\"oldest_available_date\":\"2000-06-07\",\"column_names\":[\"Date\",\"Open\",\"High\",\"Low\",\"Close\",\"Change\",\"Traded Volume\",\"Turnover\",\"Last Price of the Day\",\"Daily Traded Units\",\"Daily Turnover\"],\"frequency\":\"daily\",\"type\":\"Time Series\",\"premium\":false,\"limit\":null,\"transform\":null,\"column_index\":null,\"start_date\":\"2017-01-02\",\"end_date\":\"2017-01-03\",\"data\":[[\"2017-01-03\",35.9,35.93,35.34,35.48,null,70618.0,2515473.0,null,null,null],[\"2017-01-02\",34.99,35.94,34.99,35.8,null,44700.0,1590561.0,null,null,null]],\"collapse\":null,\"order\":null,\"database_id\":6129}}\n"
     ]
    }
   ],
   "source": [
    "# Now, call the Quandl API and pull out a small sample of the data (only one day) to get a glimpse\n",
    "# into the JSON structure that will be returned\n",
    "\n",
    "params = urllib.parse.urlencode({'api_key': API_KEY, 'start_date' : '2017-01-02', 'end_date' : '2017-01-03'})\n",
    "url = URL % (DATABASE_CODE, DATASET_CODE, params)\n",
    "\n",
    "json_data = urllib.request.urlopen(url).read().decode('utf-8')\n",
    "print(json_data)\n"
   ]
  },
  {
   "cell_type": "code",
   "execution_count": 157,
   "metadata": {},
   "outputs": [
    {
     "name": "stdout",
     "output_type": "stream",
     "text": [
      "{\"dataset\":{\"id\":10095370,\"dataset_code\":\"AFX_X\",\"database_code\":\"FSE\",\"name\":\"Carl Zeiss Meditec (AFX_X)\",\"description\":\"Stock Prices for Carl Zeiss Meditec (2020-11-02) from the Frankfurt Stock Exchange.\\u003cbr\\u003e\\u003cbr\\u003eTrading System: Xetra\\u003cbr\\u003e\\u003cbr\\u003eISIN: DE0005313704\",\"refreshed_at\":\"2020-12-01T14:48:09.907Z\",\"newest_available_date\":\"2020-12-01\",\"oldest_available_date\":\"2000-06-07\",\"column_names\":[\"Date\",\"Open\",\"High\",\"Low\",\"Close\",\"Change\",\"Traded Volume\",\"Turnover\",\"Last Price of the Day\",\"Daily Traded Units\",\"Daily Turnover\"],\"frequency\":\"daily\",\"type\":\"Time Series\",\"premium\":false,\"limit\":null,\"transform\":null,\"column_index\":null,\"start_date\":\"2017-01-02\",\"end_date\":\"2017-01-03\",\"data\":[[\"2017-01-03\",35.9,35.93,35.34,35.48,null,70618.0,2515473.0,null,null,null],[\"2017-01-02\",34.99,35.94,34.99,35.8,null,44700.0,1590561.0,null,null,null]],\"collapse\":null,\"order\":null,\"database_id\":6129}}\n",
      "\"{\\\"dataset\\\":{\\\"id\\\":10095370,\\\"dataset_code\\\":\\\"AFX_X\\\",\\\"database_code\\\":\\\"FSE\\\",\\\"name\\\":\\\"Carl Zeiss Meditec (AFX_X)\\\",\\\"description\\\":\\\"Stock Prices for Carl Zeiss Meditec (2020-11-02) from the Frankfurt Stock Exchange.\\\\u003cbr\\\\u003e\\\\u003cbr\\\\u003eTrading System: Xetra\\\\u003cbr\\\\u003e\\\\u003cbr\\\\u003eISIN: DE0005313704\\\",\\\"refreshed_at\\\":\\\"2020-12-01T14:48:09.907Z\\\",\\\"newest_available_date\\\":\\\"2020-12-01\\\",\\\"oldest_available_date\\\":\\\"2000-06-07\\\",\\\"column_names\\\":[\\\"Date\\\",\\\"Open\\\",\\\"High\\\",\\\"Low\\\",\\\"Close\\\",\\\"Change\\\",\\\"Traded Volume\\\",\\\"Turnover\\\",\\\"Last Price of the Day\\\",\\\"Daily Traded Units\\\",\\\"Daily Turnover\\\"],\\\"frequency\\\":\\\"daily\\\",\\\"type\\\":\\\"Time Series\\\",\\\"premium\\\":false,\\\"limit\\\":null,\\\"transform\\\":null,\\\"column_index\\\":null,\\\"start_date\\\":\\\"2017-01-02\\\",\\\"end_date\\\":\\\"2017-01-03\\\",\\\"data\\\":[[\\\"2017-01-03\\\",35.9,35.93,35.34,35.48,null,70618.0,2515473.0,null,null,null],[\\\"2017-01-02\\\",34.99,35.94,34.99,35.8,null,44700.0,1590561.0,null,null,null]],\\\"collapse\\\":null,\\\"order\\\":null,\\\"database_id\\\":6129}}\"\n"
     ]
    }
   ],
   "source": [
    "# Inspect the JSON structure of the object you created, and take note of how nested it is,\n",
    "# as well as the overall structure\n",
    "print(json_data)\n",
    "#print(json.dumps(json_data, sort_keys=True, indent=4))\n",
    "print(json.dumps(json_data, indent=4))\n",
    "\n"
   ]
  },
  {
   "cell_type": "markdown",
   "metadata": {},
   "source": [
    "These are your tasks for this mini project:\n",
    "\n",
    "1. Collect data from the Franfurt Stock Exchange, for the ticker AFX_X, for the whole year 2017 (keep in mind that the date format is YYYY-MM-DD).\n",
    "2. Convert the returned JSON object into a Python dictionary.\n",
    "3. Calculate what the highest and lowest opening prices were for the stock in this period.\n",
    "4. What was the largest change in any one day (based on High and Low price)?\n",
    "5. What was the largest change between any two days (based on Closing Price)?\n",
    "6. What was the average daily trading volume during this year?\n",
    "7. (Optional) What was the median trading volume during this year. (Note: you may need to implement your own function for calculating the median.)"
   ]
  },
  {
   "cell_type": "code",
   "execution_count": 158,
   "metadata": {},
   "outputs": [],
   "source": [
    "start_date = '2017-01-01'\n",
    "end_date = '2017-12-31'\n",
    "\n",
    "params = urllib.parse.urlencode({'api_key': API_KEY, 'start_date' : start_date, 'end_date' : end_date})\n",
    "url = URL % (DATABASE_CODE, DATASET_CODE, params)\n",
    "\n",
    "json_data = urllib.request.urlopen(url).read().decode('utf-8')\n",
    "data = json.loads(json_data)\n"
   ]
  },
  {
   "cell_type": "code",
   "execution_count": 159,
   "metadata": {},
   "outputs": [],
   "source": [
    "#Create a dictionary with key = date and value = dictionary of column values\n",
    "column_names = data[ROOT_ELEMENT][\"column_names\"]\n",
    "daily_dict = {}\n",
    "for daily_vals in data[ROOT_ELEMENT][\"data\"]:\n",
    "    date = daily_vals[0]\n",
    "    daily_dict[date] = {}\n",
    "    for col_name, val in zip(column_names, daily_vals):\n",
    "        daily_dict[date][col_name] = val\n",
    "\n",
    "#Sort dictionary so change day to day is correct even though input looks to be reversed sorted already\n",
    "sorted_daily_dict = {}\n",
    "for date in list(sorted(daily_dict.keys())):\n",
    "    sorted_daily_dict[date] = daily_dict.get(date)\n",
    "    \n",
    "daily_dict = sorted_daily_dict\n"
   ]
  },
  {
   "cell_type": "code",
   "execution_count": 160,
   "metadata": {},
   "outputs": [],
   "source": [
    "import math\n",
    "# Create function to calculate median of a list of values\n",
    "def calcMedian(volumes):\n",
    "    sortedVolumes = sorted(volumes)\n",
    "    if len(sortedVolumes) % 2 == 0:\n",
    "        # Even number of elements.  Get 2 in the middle and average\n",
    "        indexOfLower = round(len(sortedVolumes) / 2)\n",
    "        return ((sortedVolumes[round(len(sortedVolumes) / 2)]) + sortedVolumes[round((len(sortedVolumes) / 2) - 1)]) / 2\n",
    "    else:\n",
    "        # Odd number of elements.  Use trunc since index is 0 based (i.e. round down)\n",
    "        return sortedVolumes [math.trunc(len(sortedVolumes) / 2)]\n",
    "    "
   ]
  },
  {
   "cell_type": "code",
   "execution_count": 161,
   "metadata": {},
   "outputs": [],
   "source": [
    "#Initialize stats\n",
    "hiOpen = float(\"-inf\")\n",
    "hiOpenDate = ''\n",
    "lowOpen = float(\"inf\")\n",
    "lowOpenDate = ''\n",
    "largestChange = 0\n",
    "largestChangeDate = ''\n",
    "totalTradeVol = 0\n",
    "largestDayToDayChange = 0\n",
    "lastClose = 0\n",
    "volumes = []\n",
    "\n",
    "#write function to calculate mean\n",
    "\n",
    "#Loop through daily dictionary and calculate stats\n",
    "for date in daily_dict:\n",
    "    day_dict = daily_dict[date]\n",
    "#    print(day_dict)\n",
    "    if day_dict[\"Open\"] is not None and day_dict[\"Open\"] > hiOpen:\n",
    "            hiOpen = day_dict[\"Open\"]\n",
    "            hiOpenDate = date\n",
    "    if day_dict[\"Open\"] is not None and day_dict[\"Open\"] < lowOpen:\n",
    "        lowOpen = day_dict[\"Open\"]\n",
    "        lowOpenDate = date\n",
    "    if day_dict[\"High\"] - day_dict[\"Low\"] > largestChange:\n",
    "        largestChange = day_dict[\"High\"] - day_dict[\"Low\"]\n",
    "        largestChangeDate = date\n",
    "    if lastClose > 0:\n",
    "        if abs(day_dict[\"Close\"] - lastClose) > largestDayToDayChange:\n",
    "            largestDayToDayChange = abs(day_dict[\"Close\"] - lastClose)\n",
    "    lastClose = day_dict[\"Close\"]\n",
    "    totalTradeVol = totalTradeVol + day_dict[VOLUME_LABEL]\n",
    "    volumes.append(day_dict[VOLUME_LABEL])    \n",
    "\n",
    "medianVolume = calcMedian(volumes)\n"
   ]
  },
  {
   "cell_type": "code",
   "execution_count": 162,
   "metadata": {},
   "outputs": [
    {
     "name": "stdout",
     "output_type": "stream",
     "text": [
      "Database: FSE  Dataset: AFX_X\n",
      "Date range: 2017-01-01 to 2017-12-31\n",
      "High Open was 53.11 on 2017-12-14\n",
      "Low Open was 34.0 on 2017-01-24\n",
      "Largest change was 2.8100000000000023 on 2017-05-11\n",
      "Largest change day to day : 2.559999999999995\n",
      "Average Daily Volume: 89124.33725490196\n",
      "Median trade volume: 76286.0\n"
     ]
    }
   ],
   "source": [
    "#Print Values\n",
    "print(\"Database: \" + DATABASE_CODE + \"  Dataset: \" + DATASET_CODE)\n",
    "print(\"Date range: \" + start_date + \" to \" + end_date)\n",
    "print(\"High Open was \" + str(hiOpen) + \" on \" + hiOpenDate)\n",
    "print(\"Low Open was \" + str(lowOpen) + \" on \" + lowOpenDate)\n",
    "print(\"Largest change was \" + str(largestChange) + \" on \" + largestChangeDate)\n",
    "print(\"Largest change day to day : \" + str(largestDayToDayChange))\n",
    "#print(\"Total Volume : \" + str(totalTradeVol)) \n",
    "print(\"Average Daily Volume: \" + str(totalTradeVol / len(daily_dict)))\n",
    "print(\"Median trade volume: \" + str(medianVolume))"
   ]
  }
 ],
 "metadata": {
  "kernelspec": {
   "display_name": "Python 3",
   "language": "python",
   "name": "python3"
  },
  "language_info": {
   "codemirror_mode": {
    "name": "ipython",
    "version": 3
   },
   "file_extension": ".py",
   "mimetype": "text/x-python",
   "name": "python",
   "nbconvert_exporter": "python",
   "pygments_lexer": "ipython3",
   "version": "3.8.8"
  }
 },
 "nbformat": 4,
 "nbformat_minor": 2
}
